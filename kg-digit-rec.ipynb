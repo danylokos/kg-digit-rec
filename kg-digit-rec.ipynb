{
 "cells": [
  {
   "cell_type": "markdown",
   "metadata": {},
   "source": [
    "## Kaggle Digit Recognizer"
   ]
  },
  {
   "cell_type": "markdown",
   "metadata": {},
   "source": [
    "`kaggle competitions download -c digit-recognizer`"
   ]
  },
  {
   "cell_type": "code",
   "execution_count": 125,
   "metadata": {},
   "outputs": [],
   "source": [
    "import numpy as np\n",
    "import pandas as pd\n",
    "from sklearn.utils import shuffle\n",
    "from sklearn.model_selection import train_test_split"
   ]
  },
  {
   "cell_type": "code",
   "execution_count": 2,
   "metadata": {},
   "outputs": [
    {
     "data": {
      "text/plain": [
       "(42000, 785)"
      ]
     },
     "execution_count": 2,
     "metadata": {},
     "output_type": "execute_result"
    }
   ],
   "source": [
    "train = pd.read_csv('kg-data/train.csv', sep=',')\n",
    "train.shape"
   ]
  },
  {
   "cell_type": "code",
   "execution_count": 173,
   "metadata": {
    "scrolled": true
   },
   "outputs": [],
   "source": [
    "X = train.iloc[:, 1:]\n",
    "Y = train.iloc[:, 0]\n",
    "Y_oh = pd.get_dummies(Y)\n",
    "\n",
    "input_len = X.shape[1]\n",
    "\n",
    "test_size = 0.1\n",
    "X_train, X_test = train_test_split(X, test_size=test_size, shuffle=False)\n",
    "Y_train, Y_test = train_test_split(Y, test_size=test_size, shuffle=False)\n",
    "Y_train_oh, Y_test_oh = train_test_split(Y_oh, test_size=test_size, shuffle=False)\n",
    "\n",
    "X_train = X_train.values\n",
    "Y_train_oh = Y_train_oh.values\n",
    "\n",
    "X_test = X_test.values\n",
    "Y_test_oh = Y_test_oh.values"
   ]
  },
  {
   "cell_type": "code",
   "execution_count": 174,
   "metadata": {},
   "outputs": [],
   "source": [
    "# reshape\n",
    "\n",
    "X_train_len = len(X_train)\n",
    "X_train = X_train.reshape((X_train_len, 28, 28, 1))\n",
    "\n",
    "X_test_len = len(X_test)\n",
    "X_test = X_test.reshape((X_test_len, 28, 28, 1))"
   ]
  },
  {
   "cell_type": "markdown",
   "metadata": {},
   "source": [
    "## Model"
   ]
  },
  {
   "cell_type": "code",
   "execution_count": 59,
   "metadata": {},
   "outputs": [],
   "source": [
    "from keras.models import Model\n",
    "from keras.layers import Input, Dense, Flatten, Conv2D, AveragePooling2D, MaxPooling2D\n",
    "from keras.models import load_model"
   ]
  },
  {
   "cell_type": "code",
   "execution_count": 95,
   "metadata": {},
   "outputs": [],
   "source": [
    "def DigitRec_v1():\n",
    "    pixel_values = Input(shape=(28, 28, 1, ), dtype='float32')\n",
    "    X = Flatten()(pixel_values)\n",
    "    X = Dense(20, activation='relu')(X)\n",
    "    X = Dense(20, activation='relu')(X)\n",
    "    X = Dense(10, activation='softmax')(X)\n",
    "    model = Model(inputs=pixel_values, outputs=X)\n",
    "    return model"
   ]
  },
  {
   "cell_type": "code",
   "execution_count": 80,
   "metadata": {},
   "outputs": [],
   "source": [
    "def DigitRec_LeNet5():\n",
    "    pixel_values = Input(shape=(28, 28, 1, ), dtype='float32')\n",
    "    X = Conv2D(6, (5, 5), padding='same', activation='tanh')(pixel_values)\n",
    "    X = AveragePooling2D(pool_size=(2, 2), strides=(2, 2))(X)\n",
    "    X = Conv2D(16, (5, 5), activation='tanh')(X)\n",
    "    X = AveragePooling2D(pool_size=(2, 2), strides=(2, 2))(X)\n",
    "    X = Conv2D(120, (5, 5), activation='tanh')(X)\n",
    "    X = Flatten()(X)\n",
    "    X = Dense(84, activation='tanh')(X)\n",
    "    X = Dense(10, activation='softmax')(X)\n",
    "    model = Model(inputs=pixel_values, outputs=X)\n",
    "    return model"
   ]
  },
  {
   "cell_type": "code",
   "execution_count": 168,
   "metadata": {
    "scrolled": true
   },
   "outputs": [],
   "source": [
    "del model"
   ]
  },
  {
   "cell_type": "code",
   "execution_count": 169,
   "metadata": {
    "scrolled": true
   },
   "outputs": [
    {
     "name": "stdout",
     "output_type": "stream",
     "text": [
      "_________________________________________________________________\n",
      "Layer (type)                 Output Shape              Param #   \n",
      "=================================================================\n",
      "input_22 (InputLayer)        (None, 28, 28, 1)         0         \n",
      "_________________________________________________________________\n",
      "conv2d_41 (Conv2D)           (None, 28, 28, 6)         156       \n",
      "_________________________________________________________________\n",
      "average_pooling2d_28 (Averag (None, 14, 14, 6)         0         \n",
      "_________________________________________________________________\n",
      "conv2d_42 (Conv2D)           (None, 10, 10, 16)        2416      \n",
      "_________________________________________________________________\n",
      "average_pooling2d_29 (Averag (None, 5, 5, 16)          0         \n",
      "_________________________________________________________________\n",
      "conv2d_43 (Conv2D)           (None, 1, 1, 120)         48120     \n",
      "_________________________________________________________________\n",
      "flatten_8 (Flatten)          (None, 120)               0         \n",
      "_________________________________________________________________\n",
      "dense_37 (Dense)             (None, 84)                10164     \n",
      "_________________________________________________________________\n",
      "dense_38 (Dense)             (None, 10)                850       \n",
      "=================================================================\n",
      "Total params: 61,706\n",
      "Trainable params: 61,706\n",
      "Non-trainable params: 0\n",
      "_________________________________________________________________\n"
     ]
    }
   ],
   "source": [
    "model = DigitRec_LeNet5()\n",
    "model.summary()"
   ]
  },
  {
   "cell_type": "code",
   "execution_count": 170,
   "metadata": {},
   "outputs": [],
   "source": [
    "model.compile(loss='categorical_crossentropy', optimizer='adam', metrics=['accuracy'])"
   ]
  },
  {
   "cell_type": "code",
   "execution_count": 171,
   "metadata": {
    "scrolled": true
   },
   "outputs": [
    {
     "name": "stdout",
     "output_type": "stream",
     "text": [
      "Epoch 1/15\n",
      "37800/37800 [==============================] - 10s 261us/step - loss: 0.2279 - acc: 0.9332\n",
      "Epoch 2/15\n",
      "37800/37800 [==============================] - 9s 248us/step - loss: 0.0827 - acc: 0.9748\n",
      "Epoch 3/15\n",
      "37800/37800 [==============================] - 9s 244us/step - loss: 0.0586 - acc: 0.9824\n",
      "Epoch 4/15\n",
      "37800/37800 [==============================] - 9s 242us/step - loss: 0.0454 - acc: 0.9862\n",
      "Epoch 5/15\n",
      "37800/37800 [==============================] - 9s 248us/step - loss: 0.0395 - acc: 0.9870\n",
      "Epoch 6/15\n",
      "37800/37800 [==============================] - 9s 243us/step - loss: 0.0305 - acc: 0.9902\n",
      "Epoch 7/15\n",
      "37800/37800 [==============================] - 10s 256us/step - loss: 0.0283 - acc: 0.9906\n",
      "Epoch 8/15\n",
      "37800/37800 [==============================] - 10s 256us/step - loss: 0.0224 - acc: 0.9929\n",
      "Epoch 9/15\n",
      "37800/37800 [==============================] - 9s 243us/step - loss: 0.0191 - acc: 0.9942\n",
      "Epoch 10/15\n",
      "37800/37800 [==============================] - 9s 248us/step - loss: 0.0161 - acc: 0.9948\n",
      "Epoch 11/15\n",
      "37800/37800 [==============================] - 10s 256us/step - loss: 0.0160 - acc: 0.9948\n",
      "Epoch 12/15\n",
      "37800/37800 [==============================] - 9s 232us/step - loss: 0.0137 - acc: 0.9960\n",
      "Epoch 13/15\n",
      "37800/37800 [==============================] - 9s 236us/step - loss: 0.0116 - acc: 0.9964\n",
      "Epoch 14/15\n",
      "37800/37800 [==============================] - 9s 239us/step - loss: 0.0142 - acc: 0.9951\n",
      "Epoch 15/15\n",
      "37800/37800 [==============================] - 9s 234us/step - loss: 0.0108 - acc: 0.9966\n"
     ]
    },
    {
     "data": {
      "text/plain": [
       "<keras.callbacks.History at 0x7f976cd79c50>"
      ]
     },
     "execution_count": 171,
     "metadata": {},
     "output_type": "execute_result"
    }
   ],
   "source": [
    "model.fit(X_train, Y_train_oh, epochs=15, batch_size=64, shuffle=True)"
   ]
  },
  {
   "cell_type": "code",
   "execution_count": 175,
   "metadata": {
    "scrolled": false
   },
   "outputs": [
    {
     "name": "stdout",
     "output_type": "stream",
     "text": [
      "4200/4200 [==============================] - 1s 187us/step\n",
      "Test accuracy =  0.9842857142857143\n"
     ]
    }
   ],
   "source": [
    "loss, acc = model.evaluate(X_test, Y_test_oh)\n",
    "print(\"Test accuracy = \", acc)"
   ]
  },
  {
   "cell_type": "markdown",
   "metadata": {},
   "source": [
    "## Predict"
   ]
  },
  {
   "cell_type": "code",
   "execution_count": 176,
   "metadata": {},
   "outputs": [],
   "source": [
    "import matplotlib.pyplot as plt"
   ]
  },
  {
   "cell_type": "code",
   "execution_count": 177,
   "metadata": {},
   "outputs": [
    {
     "data": {
      "text/plain": [
       "(28000, 28, 28, 1)"
      ]
     },
     "execution_count": 177,
     "metadata": {},
     "output_type": "execute_result"
    }
   ],
   "source": [
    "test = pd.read_csv('kg-data/test.csv', sep=',')\n",
    "test.shape\n",
    "\n",
    "X_test = test.values\n",
    "X_test_len = len(X_test)\n",
    "X_test = X_test.reshape((X_test_len, 28, 28, 1))\n",
    "\n",
    "X_test.shape"
   ]
  },
  {
   "cell_type": "code",
   "execution_count": 178,
   "metadata": {},
   "outputs": [],
   "source": [
    "pred = model.predict(X_test)"
   ]
  },
  {
   "cell_type": "code",
   "execution_count": 179,
   "metadata": {},
   "outputs": [],
   "source": [
    "labels = []\n",
    "for i in range(len(X_test)):\n",
    "    num = np.argmax(pred[i])\n",
    "    labels.append(num)"
   ]
  },
  {
   "cell_type": "code",
   "execution_count": 180,
   "metadata": {},
   "outputs": [
    {
     "data": {
      "image/png": "[encoded data removed]",
      "text/plain": [
       "<Figure size 432x288 with 1 Axes>"
      ]
     },
     "metadata": {
      "needs_background": "light"
     },
     "output_type": "display_data"
    }
   ],
   "source": [
    "idx = np.random.randint(len(X_test))\n",
    "pixels = X_test[idx].reshape((28, 28))\n",
    "\n",
    "plt.title('idx: ' + str(idx) + ', predicted: ' + str(labels[idx]))\n",
    "plt.imshow(pixels, cmap='gray')\n",
    "plt.show()"
   ]
  },
  {
   "cell_type": "code",
   "execution_count": 181,
   "metadata": {},
   "outputs": [],
   "source": [
    "pred_df = pd.DataFrame(columns=['ImageId', 'Label'])\n",
    "for i in range(len(labels)):\n",
    "    pred_df.loc[i] = (i+1, labels[i])"
   ]
  },
  {
   "cell_type": "code",
   "execution_count": 182,
   "metadata": {
    "scrolled": false
   },
   "outputs": [
    {
     "data": {
      "text/html": [
       "<div>\n",
       "<style scoped>\n",
       "    .dataframe tbody tr th:only-of-type {\n",
       "        vertical-align: middle;\n",
       "    }\n",
       "\n",
       "    .dataframe tbody tr th {\n",
       "        vertical-align: top;\n",
       "    }\n",
       "\n",
       "    .dataframe thead th {\n",
       "        text-align: right;\n",
       "    }\n",
       "</style>\n",
       "<table border=\"1\" class=\"dataframe\">\n",
       "  <thead>\n",
       "    <tr style=\"text-align: right;\">\n",
       "      <th></th>\n",
       "      <th>ImageId</th>\n",
       "      <th>Label</th>\n",
       "    </tr>\n",
       "  </thead>\n",
       "  <tbody>\n",
       "    <tr>\n",
       "      <th>0</th>\n",
       "      <td>1</td>\n",
       "      <td>2</td>\n",
       "    </tr>\n",
       "    <tr>\n",
       "      <th>1</th>\n",
       "      <td>2</td>\n",
       "      <td>0</td>\n",
       "    </tr>\n",
       "    <tr>\n",
       "      <th>2</th>\n",
       "      <td>3</td>\n",
       "      <td>9</td>\n",
       "    </tr>\n",
       "    <tr>\n",
       "      <th>3</th>\n",
       "      <td>4</td>\n",
       "      <td>0</td>\n",
       "    </tr>\n",
       "    <tr>\n",
       "      <th>4</th>\n",
       "      <td>5</td>\n",
       "      <td>3</td>\n",
       "    </tr>\n",
       "    <tr>\n",
       "      <th>5</th>\n",
       "      <td>6</td>\n",
       "      <td>7</td>\n",
       "    </tr>\n",
       "    <tr>\n",
       "      <th>6</th>\n",
       "      <td>7</td>\n",
       "      <td>0</td>\n",
       "    </tr>\n",
       "    <tr>\n",
       "      <th>7</th>\n",
       "      <td>8</td>\n",
       "      <td>3</td>\n",
       "    </tr>\n",
       "    <tr>\n",
       "      <th>8</th>\n",
       "      <td>9</td>\n",
       "      <td>0</td>\n",
       "    </tr>\n",
       "    <tr>\n",
       "      <th>9</th>\n",
       "      <td>10</td>\n",
       "      <td>3</td>\n",
       "    </tr>\n",
       "  </tbody>\n",
       "</table>\n",
       "</div>"
      ],
      "text/plain": [
       "  ImageId Label\n",
       "0       1     2\n",
       "1       2     0\n",
       "2       3     9\n",
       "3       4     0\n",
       "4       5     3\n",
       "5       6     7\n",
       "6       7     0\n",
       "7       8     3\n",
       "8       9     0\n",
       "9      10     3"
      ]
     },
     "execution_count": 182,
     "metadata": {},
     "output_type": "execute_result"
    }
   ],
   "source": [
    "pred_df[0:10]"
   ]
  },
  {
   "cell_type": "code",
   "execution_count": 184,
   "metadata": {},
   "outputs": [],
   "source": [
    "pred_df.to_csv('kg-data/submission.csv', sep=',', index=False)"
   ]
  }
 ],
 "metadata": {
  "kernelspec": {
   "display_name": "Python 3",
   "language": "python",
   "name": "python3"
  },
  "language_info": {
   "codemirror_mode": {
    "name": "ipython",
    "version": 3
   },
   "file_extension": ".py",
   "mimetype": "text/x-python",
   "name": "python",
   "nbconvert_exporter": "python",
   "pygments_lexer": "ipython3",
   "version": "3.6.7"
  }
 },
 "nbformat": 4,
 "nbformat_minor": 2
}
