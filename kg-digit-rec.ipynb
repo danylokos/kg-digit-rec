{
 "cells": [
  {
   "cell_type": "markdown",
   "metadata": {},
   "source": [
    "## Kaggle Digit Recognizer"
   ]
  },
  {
   "cell_type": "markdown",
   "metadata": {},
   "source": [
    "`kaggle competitions download -c digit-recognizer`"
   ]
  },
  {
   "cell_type": "code",
   "execution_count": 3,
   "metadata": {},
   "outputs": [],
   "source": [
    "import numpy as np\n",
    "import pandas as pd\n",
    "from sklearn.utils import shuffle\n",
    "from sklearn.model_selection import train_test_split\n",
    "from sklearn.metrics import confusion_matrix"
   ]
  },
  {
   "cell_type": "code",
   "execution_count": 4,
   "metadata": {},
   "outputs": [
    {
     "data": {
      "text/plain": [
       "(42000, 785)"
      ]
     },
     "execution_count": 4,
     "metadata": {},
     "output_type": "execute_result"
    }
   ],
   "source": [
    "train = pd.read_csv('kg-data/train.csv', sep=',')\n",
    "train.shape"
   ]
  },
  {
   "cell_type": "code",
   "execution_count": 79,
   "metadata": {
    "scrolled": true
   },
   "outputs": [],
   "source": [
    "X = train.iloc[:, 1:]\n",
    "Y = train.iloc[:, 0]\n",
    "Y_oh = pd.get_dummies(Y)\n",
    "\n",
    "input_len = X.shape[1]\n",
    "\n",
    "test_size = 0.025\n",
    "X_train, X_test = train_test_split(X, test_size=test_size, shuffle=False)\n",
    "Y_train, Y_test = train_test_split(Y, test_size=test_size, shuffle=False)\n",
    "Y_train_oh, Y_test_oh = train_test_split(Y_oh, test_size=test_size, shuffle=False)\n",
    "\n",
    "X_train = X_train.values\n",
    "Y_train = Y_train.values\n",
    "Y_train_oh = Y_train_oh.values\n",
    "\n",
    "X_test = X_test.values\n",
    "Y_test = Y_test.values\n",
    "Y_test_oh = Y_test_oh.values\n",
    "\n",
    "print('train: ' + len(X_train))\n",
    "print('test: ' + len(X_test))"
   ]
  },
  {
   "cell_type": "code",
   "execution_count": 80,
   "metadata": {},
   "outputs": [],
   "source": [
    "# reshape\n",
    "\n",
    "X_train_len = len(X_train)\n",
    "X_train = X_train.reshape((X_train_len, 28, 28, 1))\n",
    "\n",
    "X_test_len = len(X_test)\n",
    "X_test = X_test.reshape((X_test_len, 28, 28, 1))"
   ]
  },
  {
   "cell_type": "markdown",
   "metadata": {},
   "source": [
    "## Model"
   ]
  },
  {
   "cell_type": "code",
   "execution_count": 10,
   "metadata": {},
   "outputs": [],
   "source": [
    "from keras.models import Model\n",
    "from keras.layers import Input, Dense, Flatten, Conv2D, AveragePooling2D, MaxPooling2D, Dropout\n",
    "from keras.models import load_model"
   ]
  },
  {
   "cell_type": "code",
   "execution_count": 95,
   "metadata": {},
   "outputs": [],
   "source": [
    "def DigitRec_v1():\n",
    "    pixel_values = Input(shape=(28, 28, 1, ), dtype='float32')\n",
    "    X = Flatten()(pixel_values)\n",
    "    X = Dense(20, activation='relu')(X)\n",
    "    X = Dense(20, activation='relu')(X)\n",
    "    X = Dense(10, activation='softmax')(X)\n",
    "    model = Model(inputs=pixel_values, outputs=X)\n",
    "    return model"
   ]
  },
  {
   "cell_type": "code",
   "execution_count": 8,
   "metadata": {},
   "outputs": [],
   "source": [
    "def DigitRec_LeNet5():\n",
    "    pixel_values = Input(shape=(28, 28, 1, ), dtype='float32')\n",
    "    X = Conv2D(6, (5, 5), padding='same', activation='tanh')(pixel_values)\n",
    "    X = AveragePooling2D(pool_size=(2, 2), strides=(2, 2))(X)\n",
    "    X = Conv2D(16, (5, 5), activation='tanh')(X)\n",
    "    X = AveragePooling2D(pool_size=(2, 2), strides=(2, 2))(X)\n",
    "    X = Conv2D(120, (5, 5), activation='tanh')(X)\n",
    "    X = Flatten()(X)\n",
    "    X = Dense(84, activation='tanh')(X)\n",
    "    X = Dropout(0.5)(X)\n",
    "    X = Dense(10, activation='softmax')(X)\n",
    "    model = Model(inputs=pixel_values, outputs=X)\n",
    "    return model"
   ]
  },
  {
   "cell_type": "code",
   "execution_count": 81,
   "metadata": {
    "scrolled": true
   },
   "outputs": [],
   "source": [
    "del model"
   ]
  },
  {
   "cell_type": "code",
   "execution_count": 82,
   "metadata": {
    "scrolled": true
   },
   "outputs": [
    {
     "name": "stdout",
     "output_type": "stream",
     "text": [
      "_________________________________________________________________\n",
      "Layer (type)                 Output Shape              Param #   \n",
      "=================================================================\n",
      "input_3 (InputLayer)         (None, 28, 28, 1)         0         \n",
      "_________________________________________________________________\n",
      "conv2d_7 (Conv2D)            (None, 28, 28, 6)         156       \n",
      "_________________________________________________________________\n",
      "average_pooling2d_5 (Average (None, 14, 14, 6)         0         \n",
      "_________________________________________________________________\n",
      "conv2d_8 (Conv2D)            (None, 10, 10, 16)        2416      \n",
      "_________________________________________________________________\n",
      "average_pooling2d_6 (Average (None, 5, 5, 16)          0         \n",
      "_________________________________________________________________\n",
      "conv2d_9 (Conv2D)            (None, 1, 1, 120)         48120     \n",
      "_________________________________________________________________\n",
      "flatten_3 (Flatten)          (None, 120)               0         \n",
      "_________________________________________________________________\n",
      "dense_4 (Dense)              (None, 84)                10164     \n",
      "_________________________________________________________________\n",
      "dropout_2 (Dropout)          (None, 84)                0         \n",
      "_________________________________________________________________\n",
      "dense_5 (Dense)              (None, 10)                850       \n",
      "=================================================================\n",
      "Total params: 61,706\n",
      "Trainable params: 61,706\n",
      "Non-trainable params: 0\n",
      "_________________________________________________________________\n"
     ]
    }
   ],
   "source": [
    "model = DigitRec_LeNet5()\n",
    "model.summary()"
   ]
  },
  {
   "cell_type": "code",
   "execution_count": 83,
   "metadata": {},
   "outputs": [],
   "source": [
    "model.compile(loss='categorical_crossentropy', optimizer='adam', metrics=['accuracy'])"
   ]
  },
  {
   "cell_type": "code",
   "execution_count": 84,
   "metadata": {
    "scrolled": false
   },
   "outputs": [
    {
     "name": "stdout",
     "output_type": "stream",
     "text": [
      "Epoch 1/25\n",
      "40950/40950 [==============================] - 10s 255us/step - loss: 0.2656 - acc: 0.9221\n",
      "Epoch 2/25\n",
      "40950/40950 [==============================] - 10s 248us/step - loss: 0.0996 - acc: 0.9706\n",
      "Epoch 3/25\n",
      "40950/40950 [==============================] - 10s 243us/step - loss: 0.0809 - acc: 0.9768\n",
      "Epoch 4/25\n",
      "40950/40950 [==============================] - 10s 245us/step - loss: 0.0678 - acc: 0.9796\n",
      "Epoch 5/25\n",
      "40950/40950 [==============================] - 10s 251us/step - loss: 0.0568 - acc: 0.9827\n",
      "Epoch 6/25\n",
      "40950/40950 [==============================] - 10s 254us/step - loss: 0.0504 - acc: 0.9846\n",
      "Epoch 7/25\n",
      "40950/40950 [==============================] - 10s 248us/step - loss: 0.0442 - acc: 0.9862\n",
      "Epoch 8/25\n",
      "40950/40950 [==============================] - 10s 245us/step - loss: 0.0402 - acc: 0.9880\n",
      "Epoch 9/25\n",
      "40950/40950 [==============================] - 10s 242us/step - loss: 0.0359 - acc: 0.9889\n",
      "Epoch 10/25\n",
      "40950/40950 [==============================] - 10s 244us/step - loss: 0.0308 - acc: 0.9904\n",
      "Epoch 11/25\n",
      "40950/40950 [==============================] - 10s 252us/step - loss: 0.0315 - acc: 0.9901\n",
      "Epoch 12/25\n",
      "40950/40950 [==============================] - 10s 248us/step - loss: 0.0282 - acc: 0.9912\n",
      "Epoch 13/25\n",
      "40950/40950 [==============================] - 10s 248us/step - loss: 0.0268 - acc: 0.9919\n",
      "Epoch 14/25\n",
      "40950/40950 [==============================] - 10s 243us/step - loss: 0.0230 - acc: 0.9931\n",
      "Epoch 15/25\n",
      "40950/40950 [==============================] - 10s 245us/step - loss: 0.0221 - acc: 0.9929\n",
      "Epoch 16/25\n",
      "40950/40950 [==============================] - 10s 252us/step - loss: 0.0205 - acc: 0.9938\n",
      "Epoch 17/25\n",
      "40950/40950 [==============================] - 10s 254us/step - loss: 0.0190 - acc: 0.9938\n",
      "Epoch 18/25\n",
      "40950/40950 [==============================] - 10s 255us/step - loss: 0.0193 - acc: 0.9941\n",
      "Epoch 19/25\n",
      "40950/40950 [==============================] - 10s 255us/step - loss: 0.0167 - acc: 0.9944\n",
      "Epoch 20/25\n",
      "40950/40950 [==============================] - 10s 250us/step - loss: 0.0166 - acc: 0.9946\n",
      "Epoch 21/25\n",
      "40950/40950 [==============================] - 10s 251us/step - loss: 0.0142 - acc: 0.9954\n",
      "Epoch 22/25\n",
      "40950/40950 [==============================] - 10s 251us/step - loss: 0.0173 - acc: 0.9942\n",
      "Epoch 23/25\n",
      "40950/40950 [==============================] - 10s 249us/step - loss: 0.0125 - acc: 0.9956\n",
      "Epoch 24/25\n",
      "40950/40950 [==============================] - 10s 256us/step - loss: 0.0131 - acc: 0.9957\n",
      "Epoch 25/25\n",
      "40950/40950 [==============================] - 11s 263us/step - loss: 0.0138 - acc: 0.9953\n"
     ]
    },
    {
     "data": {
      "text/plain": [
       "<keras.callbacks.History at 0x7f03c34ffef0>"
      ]
     },
     "execution_count": 84,
     "metadata": {},
     "output_type": "execute_result"
    }
   ],
   "source": [
    "model.fit(X_train, Y_train_oh, epochs=25, batch_size=64, shuffle=True)"
   ]
  },
  {
   "cell_type": "code",
   "execution_count": 85,
   "metadata": {
    "scrolled": false
   },
   "outputs": [
    {
     "name": "stdout",
     "output_type": "stream",
     "text": [
      "1050/1050 [==============================] - 0s 202us/step\n",
      "Test accuracy =  0.9914285714285714\n"
     ]
    }
   ],
   "source": [
    "loss, acc = model.evaluate(X_test, Y_test_oh)\n",
    "print(\"Test accuracy = \", acc)"
   ]
  },
  {
   "cell_type": "markdown",
   "metadata": {},
   "source": [
    "## Predictions"
   ]
  },
  {
   "cell_type": "code",
   "execution_count": 87,
   "metadata": {},
   "outputs": [],
   "source": [
    "import matplotlib.pyplot as plt\n",
    "from sklearn.metrics import confusion_matrix"
   ]
  },
  {
   "cell_type": "code",
   "execution_count": 88,
   "metadata": {},
   "outputs": [],
   "source": [
    "Y_pred_oh = model.predict(X_test)\n",
    "Y_pred = np.array([np.argmax(i) for i in Y_pred_oh])"
   ]
  },
  {
   "cell_type": "code",
   "execution_count": 89,
   "metadata": {},
   "outputs": [
    {
     "name": "stdout",
     "output_type": "stream",
     "text": [
      "total errors: 9\n"
     ]
    }
   ],
   "source": [
    "err_num = 0\n",
    "err_idx = []\n",
    "for idx in range(len(X_test)):\n",
    "    if Y_test[idx] != Y_pred[idx]:\n",
    "        err_num += 1\n",
    "        err_idx.append(idx)\n",
    "print('total errors: ' + str(err_num))"
   ]
  },
  {
   "cell_type": "code",
   "execution_count": 90,
   "metadata": {},
   "outputs": [
    {
     "data": {
      "image/png": "[encoded data removed]",
      "text/plain": [
       "<Figure size 432x288 with 1 Axes>"
      ]
     },
     "metadata": {
      "needs_background": "light"
     },
     "output_type": "display_data"
    },
    {
     "data": {
      "image/png": "[encoded data removed]",
      "text/plain": [
       "<Figure size 432x288 with 1 Axes>"
      ]
     },
     "metadata": {
      "needs_background": "light"
     },
     "output_type": "display_data"
    },
    {
     "data": {
      "image/png": "[encoded data removed]",
      "text/plain": [
       "<Figure size 432x288 with 1 Axes>"
      ]
     },
     "metadata": {
      "needs_background": "light"
     },
     "output_type": "display_data"
    },
    {
     "data": {
      "image/png": "[encoded data removed]",
      "text/plain": [
       "<Figure size 432x288 with 1 Axes>"
      ]
     },
     "metadata": {
      "needs_background": "light"
     },
     "output_type": "display_data"
    },
    {
     "data": {
      "image/png": "[encoded data removed]",
      "text/plain": [
       "<Figure size 432x288 with 1 Axes>"
      ]
     },
     "metadata": {
      "needs_background": "light"
     },
     "output_type": "display_data"
    },
    {
     "data": {
      "image/png": "[encoded data removed]",
      "text/plain": [
       "<Figure size 432x288 with 1 Axes>"
      ]
     },
     "metadata": {
      "needs_background": "light"
     },
     "output_type": "display_data"
    },
    {
     "data": {
      "image/png": "[encoded data removed]",
      "text/plain": [
       "<Figure size 432x288 with 1 Axes>"
      ]
     },
     "metadata": {
      "needs_background": "light"
     },
     "output_type": "display_data"
    },
    {
     "data": {
      "image/png": "[encoded data removed]",
      "text/plain": [
       "<Figure size 432x288 with 1 Axes>"
      ]
     },
     "metadata": {
      "needs_background": "light"
     },
     "output_type": "display_data"
    },
    {
     "data": {
      "image/png": "[encoded data removed]",
      "text/plain": [
       "<Figure size 432x288 with 1 Axes>"
      ]
     },
     "metadata": {
      "needs_background": "light"
     },
     "output_type": "display_data"
    }
   ],
   "source": [
    "for idx in err_idx:\n",
    "    pixels = X_test[idx].reshape((28, 28))\n",
    "    plt.title('idx: ' + str(idx) + ', truth: ' + str(Y_test[idx]) + ', predicted: ' + str(Y_pred[idx]))\n",
    "    plt.imshow(pixels, cmap=plt.cm.gray)\n",
    "    plt.show()"
   ]
  },
  {
   "cell_type": "code",
   "execution_count": 91,
   "metadata": {},
   "outputs": [],
   "source": [
    "def plot_confusion_matrix(y_actu, y_pred, title='Confusion matrix', cmap=plt.cm.gray):\n",
    "    \n",
    "    df_confusion = pd.crosstab(y_actu, y_pred.reshape(y_pred.shape[0],), rownames=['Actual'], colnames=['Predicted'], margins=True)\n",
    "    \n",
    "    df_conf_norm = df_confusion / df_confusion.sum(axis=1)\n",
    "    \n",
    "    plt.matshow(df_confusion, cmap=cmap) # imshow\n",
    "    plt.colorbar()\n",
    "    tick_marks = np.arange(len(df_confusion.columns))\n",
    "    plt.xticks(tick_marks, df_confusion.columns, rotation=45)\n",
    "    plt.yticks(tick_marks, df_confusion.index)\n",
    "    plt.ylabel(df_confusion.index.name)\n",
    "    plt.xlabel(df_confusion.columns.name)"
   ]
  },
  {
   "cell_type": "code",
   "execution_count": 59,
   "metadata": {},
   "outputs": [
    {
     "data": {
      "image/png": "[encoded data removed]",
      "text/plain": [
       "<Figure size 288x288 with 2 Axes>"
      ]
     },
     "metadata": {
      "needs_background": "light"
     },
     "output_type": "display_data"
    }
   ],
   "source": [
    "plot_confusion_matrix(Y_test, Y_pred)"
   ]
  },
  {
   "cell_type": "markdown",
   "metadata": {},
   "source": [
    "## Submission"
   ]
  },
  {
   "cell_type": "code",
   "execution_count": 92,
   "metadata": {},
   "outputs": [
    {
     "data": {
      "text/plain": [
       "(28000, 28, 28, 1)"
      ]
     },
     "execution_count": 92,
     "metadata": {},
     "output_type": "execute_result"
    }
   ],
   "source": [
    "test = pd.read_csv('kg-data/test.csv', sep=',')\n",
    "test.shape\n",
    "\n",
    "X_test = test.values\n",
    "X_test_len = len(X_test)\n",
    "X_test = X_test.reshape((X_test_len, 28, 28, 1))\n",
    "\n",
    "X_test.shape"
   ]
  },
  {
   "cell_type": "code",
   "execution_count": 93,
   "metadata": {},
   "outputs": [],
   "source": [
    "Y_pred_oh = model.predict(X_test)\n",
    "Y_pred = np.array([np.argmax(i) for i in Y_pred_oh])"
   ]
  },
  {
   "cell_type": "code",
   "execution_count": 94,
   "metadata": {
    "scrolled": true
   },
   "outputs": [
    {
     "data": {
      "image/png": "[encoded data removed]",
      "text/plain": [
       "<Figure size 432x288 with 1 Axes>"
      ]
     },
     "metadata": {
      "needs_background": "light"
     },
     "output_type": "display_data"
    }
   ],
   "source": [
    "idx = np.random.randint(len(X_test))\n",
    "pixels = X_test[idx].reshape((28, 28))\n",
    "plt.title('idx: ' + str(idx) + ', predicted: ' + str(Y_pred[idx]))\n",
    "plt.imshow(pixels, cmap=plt.cm.gray)\n",
    "plt.show()"
   ]
  },
  {
   "cell_type": "code",
   "execution_count": 96,
   "metadata": {},
   "outputs": [],
   "source": [
    "pred_df = pd.DataFrame(columns=['ImageId', 'Label'])\n",
    "for i in range(len(Y_pred)):\n",
    "    pred_df.loc[i] = (i+1, Y_pred[i])"
   ]
  },
  {
   "cell_type": "code",
   "execution_count": 97,
   "metadata": {
    "scrolled": false
   },
   "outputs": [
    {
     "data": {
      "text/html": [
       "<div>\n",
       "<style scoped>\n",
       "    .dataframe tbody tr th:only-of-type {\n",
       "        vertical-align: middle;\n",
       "    }\n",
       "\n",
       "    .dataframe tbody tr th {\n",
       "        vertical-align: top;\n",
       "    }\n",
       "\n",
       "    .dataframe thead th {\n",
       "        text-align: right;\n",
       "    }\n",
       "</style>\n",
       "<table border=\"1\" class=\"dataframe\">\n",
       "  <thead>\n",
       "    <tr style=\"text-align: right;\">\n",
       "      <th></th>\n",
       "      <th>ImageId</th>\n",
       "      <th>Label</th>\n",
       "    </tr>\n",
       "  </thead>\n",
       "  <tbody>\n",
       "    <tr>\n",
       "      <th>0</th>\n",
       "      <td>1</td>\n",
       "      <td>2</td>\n",
       "    </tr>\n",
       "    <tr>\n",
       "      <th>1</th>\n",
       "      <td>2</td>\n",
       "      <td>0</td>\n",
       "    </tr>\n",
       "    <tr>\n",
       "      <th>2</th>\n",
       "      <td>3</td>\n",
       "      <td>9</td>\n",
       "    </tr>\n",
       "    <tr>\n",
       "      <th>3</th>\n",
       "      <td>4</td>\n",
       "      <td>0</td>\n",
       "    </tr>\n",
       "    <tr>\n",
       "      <th>4</th>\n",
       "      <td>5</td>\n",
       "      <td>3</td>\n",
       "    </tr>\n",
       "    <tr>\n",
       "      <th>5</th>\n",
       "      <td>6</td>\n",
       "      <td>7</td>\n",
       "    </tr>\n",
       "    <tr>\n",
       "      <th>6</th>\n",
       "      <td>7</td>\n",
       "      <td>0</td>\n",
       "    </tr>\n",
       "    <tr>\n",
       "      <th>7</th>\n",
       "      <td>8</td>\n",
       "      <td>3</td>\n",
       "    </tr>\n",
       "    <tr>\n",
       "      <th>8</th>\n",
       "      <td>9</td>\n",
       "      <td>0</td>\n",
       "    </tr>\n",
       "    <tr>\n",
       "      <th>9</th>\n",
       "      <td>10</td>\n",
       "      <td>3</td>\n",
       "    </tr>\n",
       "  </tbody>\n",
       "</table>\n",
       "</div>"
      ],
      "text/plain": [
       "  ImageId Label\n",
       "0       1     2\n",
       "1       2     0\n",
       "2       3     9\n",
       "3       4     0\n",
       "4       5     3\n",
       "5       6     7\n",
       "6       7     0\n",
       "7       8     3\n",
       "8       9     0\n",
       "9      10     3"
      ]
     },
     "execution_count": 97,
     "metadata": {},
     "output_type": "execute_result"
    }
   ],
   "source": [
    "pred_df[0:10]"
   ]
  },
  {
   "cell_type": "code",
   "execution_count": 98,
   "metadata": {},
   "outputs": [],
   "source": [
    "pred_df.to_csv('kg-data/submission.csv', sep=',', index=False)"
   ]
  }
 ],
 "metadata": {
  "kernelspec": {
   "display_name": "Python 3",
   "language": "python",
   "name": "python3"
  },
  "language_info": {
   "codemirror_mode": {
    "name": "ipython",
    "version": 3
   },
   "file_extension": ".py",
   "mimetype": "text/x-python",
   "name": "python",
   "nbconvert_exporter": "python",
   "pygments_lexer": "ipython3",
   "version": "3.6.7"
  }
 },
 "nbformat": 4,
 "nbformat_minor": 2
}
