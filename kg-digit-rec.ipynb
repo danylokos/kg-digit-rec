{
 "cells": [
  {
   "cell_type": "markdown",
   "metadata": {},
   "source": [
    "## Kaggle Digit Recognizer"
   ]
  },
  {
   "cell_type": "markdown",
   "metadata": {},
   "source": [
    "`kaggle competitions download -c digit-recognizer`"
   ]
  },
  {
   "cell_type": "code",
   "execution_count": 1,
   "metadata": {},
   "outputs": [],
   "source": [
    "import pandas as pd\n",
    "from sklearn.utils import shuffle\n",
    "from sklearn.model_selection import train_test_split"
   ]
  },
  {
   "cell_type": "code",
   "execution_count": 4,
   "metadata": {},
   "outputs": [
    {
     "data": {
      "text/plain": [
       "(42000, 785)"
      ]
     },
     "execution_count": 4,
     "metadata": {},
     "output_type": "execute_result"
    }
   ],
   "source": [
    "train = pd.read_csv('kg-data/train.csv', sep=',')\n",
    "# train = shuffle(train)\n",
    "train.shape"
   ]
  },
  {
   "cell_type": "code",
   "execution_count": 11,
   "metadata": {},
   "outputs": [],
   "source": [
    "X = train.iloc[:, 1:]\n",
    "Y = train.iloc[:, 0]\n",
    "Y_oh = pd.get_dummies(Y)\n",
    "\n",
    "test_size = 0.1\n",
    "X_train, X_test = train_test_split(X, test_size=test_size, shuffle=False)\n",
    "Y_train, Y_test = train_test_split(Y, test_size=test_size, shuffle=False)\n",
    "Y_train_oh, Y_test_oh = train_test_split(Y_oh, test_size=test_size, shuffle=False)\n",
    "\n",
    "input_len = X.shape[1]"
   ]
  },
  {
   "cell_type": "code",
   "execution_count": 6,
   "metadata": {},
   "outputs": [
    {
     "name": "stderr",
     "output_type": "stream",
     "text": [
      "Using TensorFlow backend.\n"
     ]
    }
   ],
   "source": [
    "from keras.models import Model\n",
    "from keras.layers import Input, Dense\n",
    "from keras.models import load_model"
   ]
  },
  {
   "cell_type": "code",
   "execution_count": 7,
   "metadata": {},
   "outputs": [],
   "source": [
    "def DigitRec(input_shape):\n",
    "    pixel_values = Input(shape = input_shape, dtype = 'float32')\n",
    "    X = Dense(20, activation=\"relu\")(pixel_values)\n",
    "    X = Dense(20, activation=\"relu\")(X)\n",
    "    X = Dense(10, activation=\"softmax\")(X)\n",
    "    model = Model(inputs=pixel_values, outputs=X)\n",
    "    return model"
   ]
  },
  {
   "cell_type": "code",
   "execution_count": null,
   "metadata": {},
   "outputs": [],
   "source": [
    "del model"
   ]
  },
  {
   "cell_type": "code",
   "execution_count": 12,
   "metadata": {},
   "outputs": [
    {
     "name": "stdout",
     "output_type": "stream",
     "text": [
      "WARNING:tensorflow:From /mnt/d/workspace/jpnb/.venv/lib/python3.6/site-packages/tensorflow/python/framework/op_def_library.py:263: colocate_with (from tensorflow.python.framework.ops) is deprecated and will be removed in a future version.\n",
      "Instructions for updating:\n",
      "Colocations handled automatically by placer.\n",
      "_________________________________________________________________\n",
      "Layer (type)                 Output Shape              Param #   \n",
      "=================================================================\n",
      "input_1 (InputLayer)         (None, 784)               0         \n",
      "_________________________________________________________________\n",
      "dense_1 (Dense)              (None, 20)                15700     \n",
      "_________________________________________________________________\n",
      "dense_2 (Dense)              (None, 20)                420       \n",
      "_________________________________________________________________\n",
      "dense_3 (Dense)              (None, 10)                210       \n",
      "=================================================================\n",
      "Total params: 16,330\n",
      "Trainable params: 16,330\n",
      "Non-trainable params: 0\n",
      "_________________________________________________________________\n"
     ]
    }
   ],
   "source": [
    "model = DigitRec((input_len,))\n",
    "model.summary()"
   ]
  },
  {
   "cell_type": "code",
   "execution_count": 13,
   "metadata": {},
   "outputs": [],
   "source": [
    "model.compile(loss='categorical_crossentropy', optimizer='adam', metrics=['accuracy'])"
   ]
  },
  {
   "cell_type": "code",
   "execution_count": 14,
   "metadata": {},
   "outputs": [
    {
     "name": "stdout",
     "output_type": "stream",
     "text": [
      "WARNING:tensorflow:From /mnt/d/workspace/jpnb/.venv/lib/python3.6/site-packages/tensorflow/python/ops/math_ops.py:3066: to_int32 (from tensorflow.python.ops.math_ops) is deprecated and will be removed in a future version.\n",
      "Instructions for updating:\n",
      "Use tf.cast instead.\n",
      "Epoch 1/50\n",
      "37800/37800 [==============================] - 3s 67us/step - loss: 4.4430 - acc: 0.5909\n",
      "Epoch 2/50\n",
      "37800/37800 [==============================] - 1s 36us/step - loss: 0.8297 - acc: 0.7798\n",
      "Epoch 3/50\n",
      "37800/37800 [==============================] - 1s 34us/step - loss: 0.6311 - acc: 0.8398\n",
      "Epoch 4/50\n",
      "37800/37800 [==============================] - 1s 34us/step - loss: 0.5092 - acc: 0.8766\n",
      "Epoch 5/50\n",
      "37800/37800 [==============================] - 1s 34us/step - loss: 0.4387 - acc: 0.8926\n",
      "Epoch 6/50\n",
      "37800/37800 [==============================] - 1s 33us/step - loss: 0.4007 - acc: 0.9003\n",
      "Epoch 7/50\n",
      "37800/37800 [==============================] - 1s 33us/step - loss: 0.3551 - acc: 0.9112\n",
      "Epoch 8/50\n",
      "37800/37800 [==============================] - 1s 35us/step - loss: 0.3228 - acc: 0.9193\n",
      "Epoch 9/50\n",
      "37800/37800 [==============================] - 1s 33us/step - loss: 0.3113 - acc: 0.9228\n",
      "Epoch 10/50\n",
      "37800/37800 [==============================] - 1s 34us/step - loss: 0.2998 - acc: 0.9250\n",
      "Epoch 11/50\n",
      "37800/37800 [==============================] - 1s 34us/step - loss: 0.2729 - acc: 0.9302\n",
      "Epoch 12/50\n",
      "37800/37800 [==============================] - 1s 35us/step - loss: 0.2640 - acc: 0.9319\n",
      "Epoch 13/50\n",
      "37800/37800 [==============================] - 1s 34us/step - loss: 0.2509 - acc: 0.9345\n",
      "Epoch 14/50\n",
      "37800/37800 [==============================] - 1s 34us/step - loss: 0.2396 - acc: 0.9373\n",
      "Epoch 15/50\n",
      "37800/37800 [==============================] - 1s 34us/step - loss: 0.2300 - acc: 0.9396\n",
      "Epoch 16/50\n",
      "37800/37800 [==============================] - 1s 34us/step - loss: 0.2284 - acc: 0.9403\n",
      "Epoch 17/50\n",
      "37800/37800 [==============================] - 1s 34us/step - loss: 0.2153 - acc: 0.9433\n",
      "Epoch 18/50\n",
      "37800/37800 [==============================] - 1s 35us/step - loss: 0.2092 - acc: 0.9432\n",
      "Epoch 19/50\n",
      "37800/37800 [==============================] - 1s 35us/step - loss: 0.2041 - acc: 0.9468\n",
      "Epoch 20/50\n",
      "37800/37800 [==============================] - 1s 35us/step - loss: 0.1994 - acc: 0.9465\n",
      "Epoch 21/50\n",
      "37800/37800 [==============================] - 1s 35us/step - loss: 0.1960 - acc: 0.9463\n",
      "Epoch 22/50\n",
      "37800/37800 [==============================] - 1s 34us/step - loss: 0.1880 - acc: 0.9501\n",
      "Epoch 23/50\n",
      "37800/37800 [==============================] - 1s 34us/step - loss: 0.1875 - acc: 0.9502\n",
      "Epoch 24/50\n",
      "37800/37800 [==============================] - 1s 35us/step - loss: 0.1756 - acc: 0.9518\n",
      "Epoch 25/50\n",
      "37800/37800 [==============================] - 1s 32us/step - loss: 0.1746 - acc: 0.9527\n",
      "Epoch 26/50\n",
      "37800/37800 [==============================] - 1s 31us/step - loss: 0.1747 - acc: 0.9524\n",
      "Epoch 27/50\n",
      "37800/37800 [==============================] - 1s 32us/step - loss: 0.1701 - acc: 0.9531\n",
      "Epoch 28/50\n",
      "37800/37800 [==============================] - 1s 31us/step - loss: 0.1655 - acc: 0.9546\n",
      "Epoch 29/50\n",
      "37800/37800 [==============================] - 1s 32us/step - loss: 0.1622 - acc: 0.9555\n",
      "Epoch 30/50\n",
      "37800/37800 [==============================] - 1s 32us/step - loss: 0.1606 - acc: 0.9567\n",
      "Epoch 31/50\n",
      "37800/37800 [==============================] - 1s 32us/step - loss: 0.1555 - acc: 0.9564\n",
      "Epoch 32/50\n",
      "37800/37800 [==============================] - 1s 31us/step - loss: 0.1527 - acc: 0.9575\n",
      "Epoch 33/50\n",
      "37800/37800 [==============================] - 1s 31us/step - loss: 0.1541 - acc: 0.9572\n",
      "Epoch 34/50\n",
      "37800/37800 [==============================] - 1s 33us/step - loss: 0.1483 - acc: 0.9594\n",
      "Epoch 35/50\n",
      "37800/37800 [==============================] - 1s 32us/step - loss: 0.1442 - acc: 0.9598\n",
      "Epoch 36/50\n",
      "37800/37800 [==============================] - 1s 33us/step - loss: 0.1466 - acc: 0.9593\n",
      "Epoch 37/50\n",
      "37800/37800 [==============================] - 1s 34us/step - loss: 0.1417 - acc: 0.9610\n",
      "Epoch 38/50\n",
      "37800/37800 [==============================] - 1s 32us/step - loss: 0.1410 - acc: 0.9607\n",
      "Epoch 39/50\n",
      "37800/37800 [==============================] - 1s 32us/step - loss: 0.1372 - acc: 0.9616\n",
      "Epoch 40/50\n",
      "37800/37800 [==============================] - 1s 33us/step - loss: 0.1385 - acc: 0.9624\n",
      "Epoch 41/50\n",
      "37800/37800 [==============================] - 1s 32us/step - loss: 0.1360 - acc: 0.9632\n",
      "Epoch 42/50\n",
      "37800/37800 [==============================] - 1s 32us/step - loss: 0.1296 - acc: 0.9632\n",
      "Epoch 43/50\n",
      "37800/37800 [==============================] - 1s 34us/step - loss: 0.1282 - acc: 0.9641\n",
      "Epoch 44/50\n",
      "37800/37800 [==============================] - 1s 33us/step - loss: 0.1291 - acc: 0.9631\n",
      "Epoch 45/50\n",
      "37800/37800 [==============================] - 1s 31us/step - loss: 0.1294 - acc: 0.9632\n",
      "Epoch 46/50\n",
      "37800/37800 [==============================] - 1s 31us/step - loss: 0.1239 - acc: 0.9643\n",
      "Epoch 47/50\n",
      "37800/37800 [==============================] - 1s 32us/step - loss: 0.1267 - acc: 0.9642\n",
      "Epoch 48/50\n",
      "37800/37800 [==============================] - 1s 31us/step - loss: 0.1220 - acc: 0.9658\n",
      "Epoch 49/50\n",
      "37800/37800 [==============================] - 1s 31us/step - loss: 0.1184 - acc: 0.9669\n",
      "Epoch 50/50\n",
      "37800/37800 [==============================] - 1s 32us/step - loss: 0.1240 - acc: 0.9640\n"
     ]
    },
    {
     "data": {
      "text/plain": [
       "<keras.callbacks.History at 0x7f4f074e39b0>"
      ]
     },
     "execution_count": 14,
     "metadata": {},
     "output_type": "execute_result"
    }
   ],
   "source": [
    "model.fit(X_train.values, Y_train_oh.values, epochs=50, batch_size=64, shuffle=True)"
   ]
  },
  {
   "cell_type": "code",
   "execution_count": 15,
   "metadata": {},
   "outputs": [
    {
     "name": "stdout",
     "output_type": "stream",
     "text": [
      "4200/4200 [==============================] - 0s 26us/step\n",
      "Test accuracy =  0.9366666666666666\n"
     ]
    }
   ],
   "source": [
    "loss, acc = model.evaluate(X_test.values, Y_test_oh.values)\n",
    "print(\"Test accuracy = \", acc)"
   ]
  }
 ],
 "metadata": {
  "kernelspec": {
   "display_name": "Python 3",
   "language": "python",
   "name": "python3"
  },
  "language_info": {
   "codemirror_mode": {
    "name": "ipython",
    "version": 3
   },
   "file_extension": ".py",
   "mimetype": "text/x-python",
   "name": "python",
   "nbconvert_exporter": "python",
   "pygments_lexer": "ipython3",
   "version": "3.6.7"
  }
 },
 "nbformat": 4,
 "nbformat_minor": 2
}
